{
  "nbformat": 4,
  "nbformat_minor": 0,
  "metadata": {
    "colab": {
      "name": "MNIST datasets",
      "provenance": []
    },
    "kernelspec": {
      "name": "python3",
      "display_name": "Python 3"
    }
  },
  "cells": [
    {
      "cell_type": "code",
      "metadata": {
        "id": "-hGggrfVlya6"
      },
      "source": [
        "import tensorflow as tf"
      ],
      "execution_count": null,
      "outputs": []
    },
    {
      "cell_type": "code",
      "metadata": {
        "id": "r-wbCOB3l_rO"
      },
      "source": [
        "mnist=tf.keras.datasets.mnist\n"
      ],
      "execution_count": null,
      "outputs": []
    },
    {
      "cell_type": "code",
      "metadata": {
        "id": "xFmHnDwtmOy7",
        "colab": {
          "base_uri": "https://localhost:8080/"
        },
        "outputId": "03aa6794-0d89-4b44-9f5a-09d513e748e7"
      },
      "source": [
        "(x_train,y_train),(x_test,y_test)=mnist.load_data()"
      ],
      "execution_count": null,
      "outputs": [
        {
          "output_type": "stream",
          "name": "stdout",
          "text": [
            "Downloading data from https://storage.googleapis.com/tensorflow/tf-keras-datasets/mnist.npz\n",
            "11493376/11490434 [==============================] - 0s 0us/step\n",
            "11501568/11490434 [==============================] - 0s 0us/step\n"
          ]
        }
      ]
    },
    {
      "cell_type": "code",
      "metadata": {
        "id": "kOCo68mJmP9U"
      },
      "source": [
        "x_train,x_test=x_train/255.0,x_test/255.0"
      ],
      "execution_count": null,
      "outputs": []
    },
    {
      "cell_type": "markdown",
      "metadata": {
        "id": "Qch6VkIQnlMa"
      },
      "source": [
        "###### Buid tf.keras.Sequential by stacking up the layers"
      ]
    },
    {
      "cell_type": "code",
      "metadata": {
        "id": "ta0b8dIbnnN0"
      },
      "source": [
        "model=tf.keras.models.Sequential([\n",
        "      tf.keras.layers.Flatten(input_shape=(28,28)),\n",
        "      tf.keras.layers.Dense(128,activation='relu'),\n",
        "      tf.keras.layers.Dropout(0.2),\n",
        "      tf.keras.layers.Dense(10)               \n",
        "])"
      ],
      "execution_count": null,
      "outputs": []
    },
    {
      "cell_type": "code",
      "metadata": {
        "colab": {
          "base_uri": "https://localhost:8080/"
        },
        "id": "9qwB9OVfCrYb",
        "outputId": "e11b943a-f23d-471e-ecf4-0e630bdc04f1"
      },
      "source": [
        "predictions=model(x_train[:1]).numpy()\n",
        "predictions"
      ],
      "execution_count": null,
      "outputs": [
        {
          "output_type": "execute_result",
          "data": {
            "text/plain": [
              "array([[-0.28898704,  0.1648983 ,  0.09347114,  0.25297567, -0.35925278,\n",
              "         0.44211102,  0.39015794,  0.1360673 ,  0.14482997,  0.0689163 ]],\n",
              "      dtype=float32)"
            ]
          },
          "metadata": {},
          "execution_count": 6
        }
      ]
    },
    {
      "cell_type": "code",
      "metadata": {
        "colab": {
          "base_uri": "https://localhost:8080/"
        },
        "id": "xerbr68EDVA2",
        "outputId": "dfafefc4-1a9f-4f3f-c8ca-24ec88d7885e"
      },
      "source": [
        "tf.nn.softmax(predictions).numpy()"
      ],
      "execution_count": null,
      "outputs": [
        {
          "output_type": "execute_result",
          "data": {
            "text/plain": [
              "array([[0.06559736, 0.10327764, 0.09615811, 0.11278669, 0.06114633,\n",
              "        0.13626938, 0.12937053, 0.10034256, 0.10122569, 0.09382571]],\n",
              "      dtype=float32)"
            ]
          },
          "metadata": {},
          "execution_count": 7
        }
      ]
    },
    {
      "cell_type": "code",
      "metadata": {
        "id": "8r_-gAGkDmyi"
      },
      "source": [
        "loss_fn=tf.keras.losses.SparseCategoricalCrossentropy(from_logits=True)"
      ],
      "execution_count": null,
      "outputs": []
    },
    {
      "cell_type": "code",
      "metadata": {
        "colab": {
          "base_uri": "https://localhost:8080/"
        },
        "id": "h9e011kqEWi7",
        "outputId": "1afa99cc-8fd8-443e-8638-9c0f84838c18"
      },
      "source": [
        "loss_fn(y_train[:1],predictions).numpy()"
      ],
      "execution_count": null,
      "outputs": [
        {
          "output_type": "execute_result",
          "data": {
            "text/plain": [
              "1.9931216"
            ]
          },
          "metadata": {},
          "execution_count": 9
        }
      ]
    },
    {
      "cell_type": "code",
      "metadata": {
        "id": "_weIgkUkFikL"
      },
      "source": [
        "model.compile(optimizer='adam',\n",
        "              loss=loss_fn,\n",
        "              metrics=['accuracy'])"
      ],
      "execution_count": null,
      "outputs": []
    },
    {
      "cell_type": "code",
      "metadata": {
        "colab": {
          "base_uri": "https://localhost:8080/"
        },
        "id": "DmZP_FO0FzA3",
        "outputId": "a888f755-2837-4e4a-9178-834058c24ea5"
      },
      "source": [
        "model.fit(x_train,y_train,epochs=5)"
      ],
      "execution_count": null,
      "outputs": [
        {
          "output_type": "stream",
          "name": "stdout",
          "text": [
            "Epoch 1/5\n",
            "1875/1875 [==============================] - 4s 2ms/step - loss: 0.2930 - accuracy: 0.9154\n",
            "Epoch 2/5\n",
            "1875/1875 [==============================] - 3s 2ms/step - loss: 0.1410 - accuracy: 0.9572\n",
            "Epoch 3/5\n",
            "1875/1875 [==============================] - 3s 2ms/step - loss: 0.1064 - accuracy: 0.9679\n",
            "Epoch 4/5\n",
            "1875/1875 [==============================] - 3s 2ms/step - loss: 0.0873 - accuracy: 0.9727\n",
            "Epoch 5/5\n",
            "1875/1875 [==============================] - 3s 2ms/step - loss: 0.0751 - accuracy: 0.9759\n"
          ]
        },
        {
          "output_type": "execute_result",
          "data": {
            "text/plain": [
              "<keras.callbacks.History at 0x7f9a4e230250>"
            ]
          },
          "metadata": {},
          "execution_count": 11
        }
      ]
    },
    {
      "cell_type": "code",
      "metadata": {
        "colab": {
          "base_uri": "https://localhost:8080/"
        },
        "id": "kNvAsn5SF660",
        "outputId": "806b9a02-0e05-4888-a8cc-ab71af77f2e3"
      },
      "source": [
        "model.evaluate(x_test,y_test,verbose=2)"
      ],
      "execution_count": null,
      "outputs": [
        {
          "output_type": "stream",
          "name": "stdout",
          "text": [
            "313/313 - 0s - loss: 0.0704 - accuracy: 0.9790\n"
          ]
        },
        {
          "output_type": "execute_result",
          "data": {
            "text/plain": [
              "[0.0704205185174942, 0.9789999723434448]"
            ]
          },
          "metadata": {},
          "execution_count": 12
        }
      ]
    },
    {
      "cell_type": "code",
      "metadata": {
        "id": "4b2qzeEFGIF1"
      },
      "source": [
        "probability_model=tf.keras.Sequential([\n",
        "     model,\n",
        "     tf.keras.layers.Softmax()                                  \n",
        "])"
      ],
      "execution_count": null,
      "outputs": []
    },
    {
      "cell_type": "code",
      "metadata": {
        "id": "m1ojJhwfGlUp",
        "colab": {
          "base_uri": "https://localhost:8080/"
        },
        "outputId": "75c3492b-de06-4e8e-82bf-63fa0323e87b"
      },
      "source": [
        "probability_model(x_test[:5])"
      ],
      "execution_count": null,
      "outputs": [
        {
          "output_type": "execute_result",
          "data": {
            "text/plain": [
              "<tf.Tensor: shape=(5, 10), dtype=float32, numpy=\n",
              "array([[3.1067415e-08, 1.0138750e-08, 3.0410004e-06, 5.9779286e-05,\n",
              "        2.2501046e-12, 1.1905326e-07, 2.4337682e-13, 9.9993634e-01,\n",
              "        7.3009865e-08, 6.6360735e-07],\n",
              "       [5.9468603e-09, 1.9631918e-04, 9.9974507e-01, 5.4690991e-05,\n",
              "        1.4037012e-14, 6.5398569e-07, 8.6126249e-08, 3.9204593e-13,\n",
              "        3.0875149e-06, 3.7863504e-11],\n",
              "       [2.9948805e-07, 9.9881649e-01, 1.9654576e-04, 1.3555205e-05,\n",
              "        2.7918288e-05, 8.6018281e-06, 4.1661962e-05, 5.3909421e-04,\n",
              "        3.4974859e-04, 6.1591213e-06],\n",
              "       [9.9973553e-01, 4.4300581e-09, 1.5233101e-04, 5.1639958e-08,\n",
              "        7.3213181e-07, 1.5293755e-06, 8.7439723e-05, 4.4411900e-06,\n",
              "        6.9704112e-07, 1.7213863e-05],\n",
              "       [1.5333744e-06, 1.4735213e-06, 1.9574647e-05, 5.3053867e-08,\n",
              "        9.9705446e-01, 8.3591988e-07, 3.7028351e-06, 1.1487517e-05,\n",
              "        1.0031880e-06, 2.9057474e-03]], dtype=float32)>"
            ]
          },
          "metadata": {},
          "execution_count": 14
        }
      ]
    }
  ]
}